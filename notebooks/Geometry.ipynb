{
 "cells": [
  {
   "cell_type": "code",
   "execution_count": null,
   "id": "0a8773b5",
   "metadata": {},
   "outputs": [],
   "source": []
  },
  {
   "cell_type": "code",
   "execution_count": null,
   "id": "f2d9c5c5",
   "metadata": {},
   "outputs": [],
   "source": [
    "import geometry as geo"
   ]
  },
  {
   "cell_type": "code",
   "execution_count": null,
   "id": "11bf2823",
   "metadata": {},
   "outputs": [],
   "source": [
    "geo.SlabSpline?"
   ]
  },
  {
   "cell_type": "raw",
   "id": "d06fcf33",
   "metadata": {},
   "source": [
    "slab = geo.SlabSpline([0.0, 100.0, 200.0, 400.0], [-6.0, -106.0, -206.0, -406.0], name=\"Slab\", pids=[1, 2, 3])"
   ]
  },
  {
   "cell_type": "code",
   "execution_count": null,
   "id": "4015734e",
   "metadata": {},
   "outputs": [],
   "source": [
    "slab = geo.SlabSpline([0.0, 68.2, 154.2, 235, 248, 251, 270, 358, 392], [-6, -15, -35, -70, -80, -82.5, -100, -200, -240], name=\"Slab\")"
   ]
  },
  {
   "cell_type": "code",
   "execution_count": null,
   "id": "ba5e25d5",
   "metadata": {},
   "outputs": [],
   "source": [
    "slab.updateinterp()\n",
    "len(slab.points)"
   ]
  },
  {
   "cell_type": "code",
   "execution_count": null,
   "id": "da0206e5",
   "metadata": {},
   "outputs": [],
   "source": [
    "geom = geo.SubductionGeometry(slab)\n",
    "geom.update(coast_distance=260, extra_width=50)\n",
    "geom.addcrustlayer(10,\"UpperCrust\")\n",
    "print([geom.wedge_side_lines[i].name for i in range(len(geom.wedge_side_lines))])\n",
    "geom.addcrustlayer(-35,\"LowerCrustBase\")\n",
    "print([geom.wedge_side_lines[i].name for i in range(len(geom.wedge_side_lines))])\n",
    "len(slab.points)"
   ]
  },
  {
   "cell_type": "code",
   "execution_count": null,
   "id": "77a29b3c",
   "metadata": {},
   "outputs": [],
   "source": [
    "geom.plot()"
   ]
  },
  {
   "cell_type": "code",
   "execution_count": null,
   "id": "7e81c6f7",
   "metadata": {},
   "outputs": [],
   "source": [
    "geom.update()\n",
    "geom.plot()"
   ]
  },
  {
   "cell_type": "code",
   "execution_count": null,
   "id": "9119529f",
   "metadata": {},
   "outputs": [],
   "source": [
    "[geom.wedge_side_lines[i].y for i in range(len(geom.wedge_side_lines))]"
   ]
  },
  {
   "cell_type": "code",
   "execution_count": null,
   "id": "ca1bd8cb",
   "metadata": {},
   "outputs": [],
   "source": [
    "geom.addwedgesidepoint(185, \"WedgeSide::InOut\", \"UpperWedgeSide\")"
   ]
  },
  {
   "cell_type": "code",
   "execution_count": null,
   "id": "166dab06",
   "metadata": {},
   "outputs": [],
   "source": [
    "geom.plot()"
   ]
  },
  {
   "cell_type": "code",
   "execution_count": null,
   "id": "73cd145e",
   "metadata": {},
   "outputs": [],
   "source": [
    "[geom.wedge_side_lines[i].y for i in range(len(geom.wedge_side_lines))]"
   ]
  },
  {
   "cell_type": "code",
   "execution_count": null,
   "id": "eff6f9d2",
   "metadata": {},
   "outputs": [],
   "source": []
  }
 ],
 "metadata": {
  "kernelspec": {
   "display_name": "Python 3",
   "language": "python",
   "name": "python3"
  },
  "language_info": {
   "codemirror_mode": {
    "name": "ipython",
    "version": 3
   },
   "file_extension": ".py",
   "mimetype": "text/x-python",
   "name": "python",
   "nbconvert_exporter": "python",
   "pygments_lexer": "ipython3",
   "version": "3.9.9"
  }
 },
 "nbformat": 4,
 "nbformat_minor": 5
}
