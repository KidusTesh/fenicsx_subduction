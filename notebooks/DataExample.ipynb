{
 "cells": [
  {
   "cell_type": "markdown",
   "id": "55df8f69",
   "metadata": {},
   "source": [
    "Define some filenames"
   ]
  },
  {
   "cell_type": "code",
   "execution_count": null,
   "id": "e1d7a57e",
   "metadata": {},
   "outputs": [],
   "source": [
    "import os\n",
    "data_filename   = os.path.join(os.pardir, \"data\", \"all_sz.json\")\n",
    "params_filename = os.path.join(os.pardir, \"data\", \"default_params.json\")"
   ]
  },
  {
   "cell_type": "markdown",
   "id": "f5c1e66b",
   "metadata": {},
   "source": [
    "Load the subduction zone parameters"
   ]
  },
  {
   "cell_type": "code",
   "execution_count": null,
   "id": "ec023a71",
   "metadata": {},
   "outputs": [],
   "source": [
    "import json\n",
    "with open(data_filename, \"r\") as fp:\n",
    "    szparams = json.load(fp)"
   ]
  },
  {
   "cell_type": "markdown",
   "id": "5d7696be",
   "metadata": {},
   "source": [
    "The \"minimum\" resolution, used to scale resolutions throughout the mesh"
   ]
  },
  {
   "cell_type": "code",
   "execution_count": null,
   "id": "9b333d4f",
   "metadata": {},
   "outputs": [],
   "source": [
    "minres = 10.0 # km"
   ]
  },
  {
   "cell_type": "code",
   "execution_count": null,
   "id": "342614d2",
   "metadata": {},
   "outputs": [],
   "source": [
    "import numpy as np"
   ]
  },
  {
   "cell_type": "raw",
   "id": "1d1e3763",
   "metadata": {},
   "source": [
    "default_params =  {\n",
    "                    'slab_rid': 1, \n",
    "                    'wedge_rid': 2,\n",
    "                    'lc_rid': 3,\n",
    "                    'uc_rid':4,\n",
    "                    'slab_sid': 1,\n",
    "                    'slab_side_sid': 2, \n",
    "                    'wedge_side_sid': 3,\n",
    "                    'upper_wedge_side_sid': 4,\n",
    "                    'lc_side_sid': 5,\n",
    "                    'uc_side_sid': 6,\n",
    "                    'slab_base_sid': 7, \n",
    "                    'wedge_base_sid': 8,\n",
    "                    'lc_base_sid': 9,\n",
    "                    'uc_base_sid': 10,\n",
    "                    'coast_sid': 11,\n",
    "                    'top_sid': 12,\n",
    "                    'wedge_top_res_fact': 4.0,\n",
    "                    'slab_base_res_fact': 6.0,\n",
    "                    'lc_slab_res_fact': 1.0,\n",
    "                    'lc_side_res_fact': 4.0,\n",
    "                    'uc_slab_res_fact': 2.0,\n",
    "                    'uc_side_res_fact': 4.0,\n",
    "                    'io_depth_res_fact': 4.0,\n",
    "                    'slab_det_depth': 1.0,\n",
    "                   }\n",
    "\n",
    "with open(params_filename, 'w') as fp:\n",
    "    json.dump(default_params, fp)"
   ]
  },
  {
   "cell_type": "markdown",
   "id": "634b5363",
   "metadata": {},
   "source": [
    "Load the default parameters"
   ]
  },
  {
   "cell_type": "code",
   "execution_count": null,
   "id": "809d9a8d",
   "metadata": {},
   "outputs": [],
   "source": [
    "with open(params_filename, \"r\") as fp:\n",
    "    default_params = json.load(fp)"
   ]
  },
  {
   "cell_type": "markdown",
   "id": "0fe8236d",
   "metadata": {},
   "source": [
    "List the available subduction zones that we've just loaded from the json file"
   ]
  },
  {
   "cell_type": "code",
   "execution_count": null,
   "id": "c5f03fac",
   "metadata": {},
   "outputs": [],
   "source": [
    "print(\"Available subduction zones:\")\n",
    "for k in szparams.keys(): print(k)"
   ]
  },
  {
   "cell_type": "markdown",
   "id": "6a06f43a",
   "metadata": {},
   "source": [
    "Choose a subduction zone from the list and load the geometrical parameters from the dictionary"
   ]
  },
  {
   "cell_type": "code",
   "execution_count": null,
   "id": "89583dec",
   "metadata": {},
   "outputs": [],
   "source": [
    "szname = \"19_N_Antilles\"  # change this to switch subduction zones\n",
    "szdata = szparams[szname]\n",
    "coast_distance = szdata['deltaxcoast']\n",
    "extra_width = szdata['deltaxwidth']\n",
    "lc_depth = szdata['deltazmoho']\n",
    "uc_depth = szdata['deltazuc']\n",
    "io_depth = szdata['deltazoutflow']\n",
    "points = np.asarray(szdata['slabpoints'])\n",
    "xs = points[:,0]\n",
    "ys = points[:,1]\n",
    "res = [1*minres if y > -200.0 else 3*minres for y in ys]"
   ]
  },
  {
   "cell_type": "markdown",
   "id": "3d0082ab",
   "metadata": {},
   "source": [
    "Load the geometry module so we can build a mesh based on the above parameters"
   ]
  },
  {
   "cell_type": "code",
   "execution_count": null,
   "id": "e4f3c97e",
   "metadata": {},
   "outputs": [],
   "source": [
    "import sys, os\n",
    "sys.path.append(os.path.join(os.path.pardir, 'python'))\n",
    "import geometry as geo"
   ]
  },
  {
   "cell_type": "markdown",
   "id": "d1104627",
   "metadata": {},
   "source": [
    "Define the slab spline"
   ]
  },
  {
   "cell_type": "code",
   "execution_count": null,
   "id": "895c862a",
   "metadata": {},
   "outputs": [],
   "source": [
    "slab = geo.SlabSpline(xs, ys, res=res, sid=default_params['slab_sid'], name=\"Slab\")"
   ]
  },
  {
   "cell_type": "markdown",
   "id": "aa98d971",
   "metadata": {},
   "source": [
    "Define the subduction geometry, including crustal layers and plot"
   ]
  },
  {
   "cell_type": "code",
   "execution_count": null,
   "id": "d3b8564e",
   "metadata": {},
   "outputs": [],
   "source": [
    "geom = geo.SubductionGeometry(slab, **default_params, \n",
    "                              wedge_top_res=default_params[\"wedge_top_res_fact\"]*minres,\n",
    "                              slab_base_res=default_params[\"slab_base_res_fact\"]*minres,\n",
    "                              coast_distance=coast_distance, extra_width=extra_width)\n",
    "# add a lower crust\n",
    "geom.addcrustlayer(lc_depth, \"LowerCrust\", \n",
    "                   sid=default_params[\"lc_base_sid\"], rid=default_params[\"lc_rid\"],\n",
    "                   slab_res=default_params[\"lc_slab_res_fact\"]*minres,\n",
    "                   side_res=default_params[\"lc_side_res_fact\"]*minres)\n",
    "# oceanic subduction zones don't define an upper crust\n",
    "if uc_depth is not None:\n",
    "    geom.addcrustlayer(uc_depth, \"UpperCrust\", \n",
    "                       sid=default_params[\"uc_base_sid\"], rid=default_params[\"uc_rid\"],\n",
    "                       slab_res=default_params[\"uc_slab_res_fact\"]*minres,\n",
    "                       side_res=default_params[\"uc_side_res_fact\"]*minres)\n",
    "# add the pre-defined in-out point\n",
    "geom.addwedgesidepoint(io_depth, \"WedgeSide::InOut\", line_name=\"UpperWedgeSide\", \n",
    "                       res=default_params[\"io_depth_res_fact\"]*minres, \n",
    "                       sid=default_params[\"upper_wedge_side_sid\"])\n",
    "# add the slab detector point\n",
    "geom.addslabpoint(default_params[\"slab_det_depth\"], \"Slab::DetectorPoint\", res=1*minres)\n",
    "geom.plot()"
   ]
  }
 ],
 "metadata": {
  "kernelspec": {
   "display_name": "Python 3",
   "language": "python",
   "name": "python3"
  },
  "language_info": {
   "codemirror_mode": {
    "name": "ipython",
    "version": 3
   },
   "file_extension": ".py",
   "mimetype": "text/x-python",
   "name": "python",
   "nbconvert_exporter": "python",
   "pygments_lexer": "ipython3",
   "version": "3.9.9"
  }
 },
 "nbformat": 4,
 "nbformat_minor": 5
}
