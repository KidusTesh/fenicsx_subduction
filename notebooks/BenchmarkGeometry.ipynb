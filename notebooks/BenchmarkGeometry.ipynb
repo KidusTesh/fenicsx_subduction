{
 "cells": [
  {
   "cell_type": "markdown",
   "id": "c1c3a8c8-d62e-4563-b3ad-441fde935e27",
   "metadata": {},
   "source": [
    "Set up the PYTHONPATH so it can find the python modules we'll be using."
   ]
  },
  {
   "cell_type": "code",
   "execution_count": null,
   "id": "0a8773b5",
   "metadata": {},
   "outputs": [],
   "source": [
    "import sys, os\n",
    "sys.path.append(os.path.join(os.path.pardir, 'python'))"
   ]
  },
  {
   "cell_type": "markdown",
   "id": "c38b0041-c784-45ca-8005-51996b493323",
   "metadata": {},
   "source": [
    "Import the geometry module"
   ]
  },
  {
   "cell_type": "code",
   "execution_count": null,
   "id": "f2d9c5c5",
   "metadata": {},
   "outputs": [],
   "source": [
    "import geometry as geo"
   ]
  },
  {
   "cell_type": "markdown",
   "id": "469a4966-f893-4203-9e71-80a2becfd01b",
   "metadata": {},
   "source": [
    "Set the base resolution that will be used throughout"
   ]
  },
  {
   "cell_type": "code",
   "execution_count": null,
   "id": "e277a5cd-2bb7-49bd-a999-39ccabdf1770",
   "metadata": {},
   "outputs": [],
   "source": [
    "minres = 10.0"
   ]
  },
  {
   "cell_type": "code",
   "execution_count": null,
   "id": "11bf2823",
   "metadata": {},
   "outputs": [],
   "source": [
    "geo.SlabSpline?"
   ]
  },
  {
   "cell_type": "code",
   "execution_count": null,
   "id": "09195ace-3587-417d-961c-33cafc5d2907",
   "metadata": {},
   "outputs": [],
   "source": [
    "slab = geo.SlabSpline([0.0, 140.0, 240.0, 400.0], [0.0, -70.0, -120.0, -200.0], \n",
    "                       res=[2*minres, 1*minres, 1*minres, 6*minres], sid=1, name=\"Slab\")\n",
    "print(len(slab.points))"
   ]
  },
  {
   "cell_type": "code",
   "execution_count": null,
   "id": "8013f1d3-d0ae-42e0-93b9-b7dc591372ac",
   "metadata": {},
   "outputs": [],
   "source": [
    "# add partial coupling depths\n",
    "slab.addpoint(80, \"Slab::PartialCouplingDepth\", res=1*minres)\n",
    "slab.addpoint(82.5, \"Slab::FullCouplingDepth\", res=1*minres)\n",
    "print(len(slab.points))"
   ]
  },
  {
   "cell_type": "code",
   "execution_count": null,
   "id": "8dec8c75-17b8-464f-b666-cbb2b86e6697",
   "metadata": {},
   "outputs": [],
   "source": [
    "geo.SubductionGeometry?"
   ]
  },
  {
   "cell_type": "code",
   "execution_count": null,
   "id": "da0206e5",
   "metadata": {},
   "outputs": [],
   "source": [
    "geom = geo.SubductionGeometry(slab, slab_rid=1, wedge_rid=2, \n",
    "                                    slab_side_sid=2, wedge_side_sid=3, slab_base_sid=7, \n",
    "                                    wedge_base_sid=8, coast_sid=11, top_sid=12,\n",
    "                                    wedge_top_res=4*minres, slab_base_res=6*minres)\n",
    "geom.plot()"
   ]
  },
  {
   "cell_type": "code",
   "execution_count": null,
   "id": "77a29b3c",
   "metadata": {},
   "outputs": [],
   "source": [
    "geom.addcrustlayer(40, \"LowerCrust\", sid=9, rid=3, slab_res=1*minres, side_res=4*minres, side_sid=5)\n",
    "print([geom.wedge_side_lines[i].name for i in range(len(geom.wedge_side_lines))])\n",
    "print(len(slab.points))\n",
    "geom.plot()"
   ]
  },
  {
   "cell_type": "code",
   "execution_count": null,
   "id": "fd35cedf-d04b-4ce2-800f-e8437c5057ec",
   "metadata": {},
   "outputs": [],
   "source": [
    "geom.addcrustlayer(15,\"UpperCrust\", sid=10, rid=4, slab_res= 2*minres, side_res=4*minres, side_sid=6)\n",
    "print([geom.wedge_side_lines[i].name for i in range(len(geom.wedge_side_lines))])\n",
    "geom.plot()"
   ]
  },
  {
   "cell_type": "code",
   "execution_count": null,
   "id": "ca1bd8cb",
   "metadata": {},
   "outputs": [],
   "source": [
    "geom.addwedgesidepoint(139, \"WedgeSide::InOut\", line_name=\"UpperWedgeSide\", res=4*minres, sid=4)\n",
    "geom.plot()"
   ]
  },
  {
   "cell_type": "code",
   "execution_count": null,
   "id": "ec6c2dda-eb9f-47a2-8502-ba32dab66d42",
   "metadata": {},
   "outputs": [],
   "source": [
    "geom.addslabpoint(100, \"Slab::DetectorPoint\", res=1*minres, sid=1)\n",
    "geom.plot()"
   ]
  },
  {
   "cell_type": "code",
   "execution_count": null,
   "id": "20b216b6-a87f-402f-b3e3-5c0f51b7d863",
   "metadata": {},
   "outputs": [],
   "source": [
    "mesh, ct, ft = geom.generatemesh()"
   ]
  },
  {
   "cell_type": "raw",
   "id": "b7cfdc45-513b-48d1-8f57-88c748708d0a",
   "metadata": {},
   "source": [
    "import pyvista\n",
    "pyvista.start_xvfb()\n",
    "from dolfinx.plot import create_vtk_mesh\n",
    "topology, cell_types, x = create_vtk_mesh(mesh, mesh.topology.dim)\n",
    "grid = pyvista.UnstructuredGrid(topology, cell_types, x)\n",
    "num_local_cells = mesh.topology.index_map(mesh.topology.dim).size_local\n",
    "grid.cell_data[\"Marker\"] = ct.values[ct.indices<num_local_cells]\n",
    "grid.set_active_scalars(\"Marker\")\n",
    "\n",
    "p = pyvista.Plotter(window_size=[800, 800])\n",
    "p.add_mesh(grid, show_edges=True)\n",
    "p.show()"
   ]
  },
  {
   "cell_type": "code",
   "execution_count": null,
   "id": "26ff22d2-5ee5-433b-aee3-9068e6808d6e",
   "metadata": {},
   "outputs": [],
   "source": [
    "import dolfinx\n",
    "import numpy as np\n",
    "\n",
    "V = dolfinx.fem.FunctionSpace(mesh, (\"CG\", 2))"
   ]
  },
  {
   "cell_type": "code",
   "execution_count": null,
   "id": "edb496ea-ad7f-4c83-8bf7-fe1ffdcc2278",
   "metadata": {},
   "outputs": [],
   "source": [
    "all_slab_dofs = dolfinx.fem.locate_dofs_topological(V, 2, ct.find(1))\n",
    "all_slab_dofs.size"
   ]
  },
  {
   "cell_type": "code",
   "execution_count": null,
   "id": "130f5cc4-d9fb-4a37-a81f-ffa99b11555e",
   "metadata": {},
   "outputs": [],
   "source": [
    "all_wedge_dofs = dolfinx.fem.locate_dofs_topological(V, 2, ct.find(2))\n",
    "all_wedge_dofs.size"
   ]
  },
  {
   "cell_type": "code",
   "execution_count": null,
   "id": "c48abe1e-b683-453a-8c0d-467cfa4b404d",
   "metadata": {},
   "outputs": [],
   "source": [
    "slab_surface_dofs = dolfinx.fem.locate_dofs_topological(V, 1, ft.find(1))\n",
    "slab_surface_dofs.size"
   ]
  },
  {
   "cell_type": "code",
   "execution_count": null,
   "id": "8f875baf-3bab-410c-bdcb-c147f45e3299",
   "metadata": {},
   "outputs": [],
   "source": [
    "slab_dofs = np.asarray([dof for dof in all_slab_dofs if dof not in slab_surface_dofs])\n",
    "slab_dofs.size"
   ]
  },
  {
   "cell_type": "code",
   "execution_count": null,
   "id": "e0bc8012-905c-4945-bbbc-4b18a9859107",
   "metadata": {},
   "outputs": [],
   "source": [
    "wedge_dofs = np.asarray([dof for dof in all_wedge_dofs if dof not in slab_surface_dofs])\n",
    "wedge_dofs.size"
   ]
  },
  {
   "cell_type": "code",
   "execution_count": null,
   "id": "5388e272-ef59-4cb2-8fd8-64392c10b7c5",
   "metadata": {},
   "outputs": [],
   "source": []
  }
 ],
 "metadata": {
  "kernelspec": {
   "display_name": "Python 3 (ipykernel)",
   "language": "python",
   "name": "python3"
  },
  "language_info": {
   "codemirror_mode": {
    "name": "ipython",
    "version": 3
   },
   "file_extension": ".py",
   "mimetype": "text/x-python",
   "name": "python",
   "nbconvert_exporter": "python",
   "pygments_lexer": "ipython3",
   "version": "3.10.11"
  }
 },
 "nbformat": 4,
 "nbformat_minor": 5
}
